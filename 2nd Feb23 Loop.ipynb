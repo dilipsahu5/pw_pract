{
 "cells": [
  {
   "cell_type": "markdown",
   "id": "531944cf-1bd2-474c-aec1-66be9b98bef2",
   "metadata": {},
   "source": [
    "#### Q 1 Explain with an example each when to use a for loop and a while loop."
   ]
  },
  {
   "cell_type": "code",
   "execution_count": 1,
   "id": "6ebfa643-2251-4a08-8751-4ec46baf76af",
   "metadata": {},
   "outputs": [
    {
     "name": "stdout",
     "output_type": "stream",
     "text": [
      "1\n",
      "2\n",
      "3\n",
      "4\n",
      "5\n",
      "6\n",
      "while Loop runs till t is less 5\n",
      "0\n",
      "1\n",
      "2\n",
      "3\n",
      "4\n"
     ]
    }
   ],
   "source": [
    "# Q1 Explain with an example each when to use a for loop and a while loop.\n",
    "'''Explaination - for loop is used for iteration of iterables\n",
    "like below i want iterate each element of the list whereas\n",
    "while loop is used to repeat the till a certain condition or for certain number of repeatation\n",
    "in for loop we can not use \n",
    "for True to run the loop but in while loop we can do this'''\n",
    "\n",
    "l1 = [1,2,3,4,5,6]\n",
    "for i in l1:\n",
    "    print(i)\n",
    "\n",
    "print('while Loop runs till t is less 5')\n",
    "t = 0\n",
    "while t < 5:\n",
    "    print(t)\n",
    "    t +=1"
   ]
  },
  {
   "cell_type": "markdown",
   "id": "95a04954-a070-4a0b-91a7-1c2b3a1d8754",
   "metadata": {},
   "source": [
    "#### Q 2 Write a python program to print the sum and product of the first 10 natural numbers using for and while loop."
   ]
  },
  {
   "cell_type": "code",
   "execution_count": 2,
   "id": "a29f58eb-a264-4a10-a3c5-8acd7225b921",
   "metadata": {},
   "outputs": [
    {
     "name": "stdout",
     "output_type": "stream",
     "text": [
      "Sum = 55 and Product = 3628800\n",
      "while loop output\n",
      "Sum = 55 and Product = 3628800\n"
     ]
    }
   ],
   "source": [
    "# Q 2 Write a python program to print the sum and product of the first 10 natural numbers using for and while loop.\n",
    "# for loop\n",
    "val_sum = 0\n",
    "val_product = 1\n",
    "for i in range(1,11):\n",
    "    val_sum = val_sum + i\n",
    "    val_product = val_product *i\n",
    "print(f'Sum = {val_sum} and Product = {val_product}')\n",
    "\n",
    "print('while loop output')\n",
    "\n",
    "\n",
    "# While Loop\n",
    "t = 1\n",
    "val_sum = 0\n",
    "val_product = 1\n",
    "while t<11:\n",
    "    val_sum = val_sum + t\n",
    "    val_product = val_product *t\n",
    "    t+=1\n",
    "print(f'Sum = {val_sum} and Product = {val_product}')\n"
   ]
  },
  {
   "cell_type": "markdown",
   "id": "94998c57-6419-42c6-8c26-6bc810c66731",
   "metadata": {},
   "source": [
    "#### Q 3 Create a python to compute the electricity bill for a household.\n",
    "#### The per-unit charges in rupees are as follows: For the first 100 units, the will be charged Rs. 4.5 per unit, for the next 100 units, the use will be charged Rs.6 per unit, and for the next 100 units, the user will be charged Rs. 10 per unit, After 300 units and above the user will be charged Rs. 20 per unit.\n",
    "#### You are required to take the units of electricity consumed in a month from the user as input.\n",
    "\n",
    "#### For 310 unit bill amount should be 2250"
   ]
  },
  {
   "cell_type": "code",
   "execution_count": 3,
   "id": "101932b0-4816-46bc-b181-3a1a52767898",
   "metadata": {},
   "outputs": [
    {
     "name": "stdin",
     "output_type": "stream",
     "text": [
      "Enter Number of Units consumed :  310\n"
     ]
    },
    {
     "name": "stdout",
     "output_type": "stream",
     "text": [
      "Your Bill amount will be Rs 2250.00\n"
     ]
    }
   ],
   "source": [
    "# Solution 1\n",
    "units = float(input('Enter Number of Units consumed : '))\n",
    "bill_amount = 0\n",
    "if units>300:\n",
    "    bill_amount = (units - 300)*20\n",
    "    units = 300 # units - more than 300  = 300\n",
    "    \n",
    "    bill_amount = bill_amount +  (units - 200)*10 \n",
    "    units = 200 # 300 - 100 = 200\n",
    "    \n",
    "    bill_amount = bill_amount +  (units - 100)*6 \n",
    "    units = 100 # 200 - 100 = 100 \n",
    "    \n",
    "    bill_amount = bill_amount +  (units *4.5)\n",
    "\n",
    "elif units>200:\n",
    "    \n",
    "    bill_amount = bill_amount +  (units - 200)*10 \n",
    "    units = units - (units-200)\n",
    "    \n",
    "    bill_amount = bill_amount +  (units - 100)*6 \n",
    "    units = units - (units-100) # 200 - 100 = 100 \n",
    "    \n",
    "    bill_amount = bill_amount +  (units *4.5)\n",
    "\n",
    "elif units>100:\n",
    "    \n",
    "    bill_amount = bill_amount +  (units - 100)*6 \n",
    "    units = units - (units-100) # 200 - 100 = 100 \n",
    "    \n",
    "    bill_amount = bill_amount +  (units *4.5)\n",
    "\n",
    "\n",
    "else:\n",
    "     \n",
    "    bill_amount = bill_amount +  (units *4.5)\n",
    "\n",
    "print(f'Your Bill amount will be Rs {bill_amount:.2f}')    \n"
   ]
  },
  {
   "cell_type": "code",
   "execution_count": 4,
   "id": "f50a838c-f981-4ade-8dc8-3fa7279c1c74",
   "metadata": {},
   "outputs": [
    {
     "name": "stdin",
     "output_type": "stream",
     "text": [
      "Enter Number of Units consumed:  310\n"
     ]
    },
    {
     "name": "stdout",
     "output_type": "stream",
     "text": [
      "Your Bill amount will be Rs 2250.00\n"
     ]
    }
   ],
   "source": [
    "# Sol Method 2\n",
    "units = float(input('Enter Number of Units consumed: '))\n",
    "bill_amount = 0\n",
    "\n",
    "if units > 300:\n",
    "    bill_amount += (units - 300) * 20\n",
    "    units = 300\n",
    "\n",
    "if units > 200:\n",
    "    bill_amount += (units - 200) * 10\n",
    "    units = 200\n",
    "\n",
    "if units > 100:\n",
    "    bill_amount += (units - 100) * 6\n",
    "    units = 100\n",
    "\n",
    "bill_amount += units * 4.5\n",
    "\n",
    "print(f'Your Bill amount will be Rs {bill_amount:.2f}')\n"
   ]
  },
  {
   "cell_type": "markdown",
   "id": "3d953521-93ae-4966-93be-489a848ee1e6",
   "metadata": {},
   "source": [
    "#### Q 4 Create a list of numbers from 1 to 100. Use for loop and while loop to calculate the cube of each number and if the cube of that number is divisible by 4 or 5 then append that number in a list and print that list"
   ]
  },
  {
   "cell_type": "code",
   "execution_count": 5,
   "id": "d6241460-a075-46c8-8ed8-13d78ef63c7d",
   "metadata": {},
   "outputs": [
    {
     "name": "stdout",
     "output_type": "stream",
     "text": [
      "List of number whose cube is divisible by 4 or 5 :\n",
      "[2, 4, 5, 6, 8, 10, 12, 14, 15, 16, 18, 20, 22, 24, 25, 26, 28, 30, 32, 34, 35, 36, 38, 40, 42, 44, 45, 46, 48, 50, 52, 54, 55, 56, 58, 60, 62, 64, 65, 66, 68, 70, 72, 74, 75, 76, 78, 80, 82, 84, 85, 86, 88, 90, 92, 94, 95, 96, 98, 100]\n"
     ]
    }
   ],
   "source": [
    "# For Loop\n",
    "num_list = range(1,101)\n",
    "result_list = []\n",
    "for i in num_list:\n",
    "    if i**3%4== 0 or i**3%5== 0:\n",
    "        result_list.append(i)\n",
    "print(f'List of number whose cube is divisible by 4 or 5 :\\n{result_list}')"
   ]
  },
  {
   "cell_type": "code",
   "execution_count": 6,
   "id": "74820168-c25f-4010-beae-d5916a80b7bf",
   "metadata": {},
   "outputs": [
    {
     "name": "stdout",
     "output_type": "stream",
     "text": [
      "List of number whose cube is divisible by 4 or 5 :\n",
      "[2, 4, 5, 6, 8, 10, 12, 14, 15, 16, 18, 20, 22, 24, 25, 26, 28, 30, 32, 34, 35, 36, 38, 40, 42, 44, 45, 46, 48, 50, 52, 54, 55, 56, 58, 60, 62, 64, 65, 66, 68, 70, 72, 74, 75, 76, 78, 80, 82, 84, 85, 86, 88, 90, 92, 94, 95, 96, 98, 100]\n"
     ]
    }
   ],
   "source": [
    "# while Loop\n",
    "num_list = range(1,101)\n",
    "n = 1\n",
    "result_list = []\n",
    "while n in num_list:\n",
    "    if n**3%4== 0 or n**3%5== 0:\n",
    "        result_list.append(n)\n",
    "    n+=1\n",
    "print(f'List of number whose cube is divisible by 4 or 5 :\\n{result_list}')"
   ]
  },
  {
   "cell_type": "markdown",
   "id": "943d7c02-98fa-4793-9940-991b1c4e59a4",
   "metadata": {},
   "source": [
    "#### Q 5. Write a program to filter count vowels in the below-given string.string = \"I want to become a data scientist\""
   ]
  },
  {
   "cell_type": "code",
   "execution_count": 7,
   "id": "ad6cfa7b-e4ec-4d68-a7b3-9bc494964650",
   "metadata": {},
   "outputs": [
    {
     "name": "stdout",
     "output_type": "stream",
     "text": [
      "Number of vowel in given string is 12\n"
     ]
    }
   ],
   "source": [
    "string = \"I want to become a data scientist\"\n",
    "num_of_vowel = 0\n",
    "for i in string:\n",
    "    if i.lower() in 'aeiou':\n",
    "        num_of_vowel+=1\n",
    "print(f'Number of vowel in given string is {num_of_vowel}')"
   ]
  },
  {
   "cell_type": "code",
   "execution_count": null,
   "id": "98b79d65-aa30-4394-ad15-4ea59ae0c8e9",
   "metadata": {},
   "outputs": [],
   "source": []
  }
 ],
 "metadata": {
  "kernelspec": {
   "display_name": "Python 3 (ipykernel)",
   "language": "python",
   "name": "python3"
  },
  "language_info": {
   "codemirror_mode": {
    "name": "ipython",
    "version": 3
   },
   "file_extension": ".py",
   "mimetype": "text/x-python",
   "name": "python",
   "nbconvert_exporter": "python",
   "pygments_lexer": "ipython3",
   "version": "3.10.10"
  }
 },
 "nbformat": 4,
 "nbformat_minor": 5
}
